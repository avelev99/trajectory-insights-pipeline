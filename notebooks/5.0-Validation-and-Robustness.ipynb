{
  "cells": [
    {
      "cell_type": "markdown",
      "metadata": {},
      "source": [
        "# Validation and Robustness Checks\n",
        "\n",
        "This lightweight scaffold loads processed artifacts, runs sensitivity analyses and validation utilities from [`src/validation.py`](../src/validation.py), and saves CSV summaries in `outputs/reports/` and quick figures in `outputs/figures/`."
      ]
    },
    {
      "cell_type": "markdown",
      "metadata": {},
      "source": [
        "# Imports and setup"
      ]
    },
    {
      "cell_type": "code",
      "execution_count": null,
      "metadata": {},
      "outputs": [],
      "source": [
        "import os\n",
        "from pathlib import Path\n",
        "\n",
        "import pandas as pd\n",
        "import numpy as np\n",
        "import seaborn as sns\n",
        "import matplotlib.pyplot as plt\n",
        "\n",
        "from src.validation import (\n",
        "    sensitivity_stop_detection,\n",
        "    sensitivity_trip_segmentation,\n",
        "    cross_user_validation,\n",
        "    temporal_generalization_check,\n",
        "    evaluate_stay_detection_comparison,\n",
        "    evaluate_map_matching_quality,\n",
        "    evaluate_mode_model_extended,\n",
        ")\n",
        "\n",
        "FIG_DIR = Path(\"outputs/figures\")\n",
        "REP_DIR = Path(\"outputs/reports\")\n",
        "FIG_DIR.mkdir(parents=True, exist_ok=True)\n",
        "REP_DIR.mkdir(parents=True, exist_ok=True)\n",
        "\n",
        "PROCESSED_DIR = Path(\"data/processed\")\n",
        "PATH_POINTS = PROCESSED_DIR / \"01_trajectories_cleaned.parquet\"\n",
        "PATH_TRIPS = PROCESSED_DIR / \"02_trips.parquet\"\n",
        "\n",
        "def _read_parquet_safe(p: Path) -> pd.DataFrame:\n",
        "    if not p.exists():\n",
        "        print(f\"[nb] Missing: {p}; proceeding with empty DataFrame.\")\n",
        "        return pd.DataFrame()\n",
        "    try:\n",
        "        return pd.read_parquet(p)\n",
        "    except Exception as e:\n",
        "        print(f\"[nb] Could not read {p}: {e}. Returning empty DataFrame.\")\n",
        "        return pd.DataFrame()\n",
        "\n",
        "df_points = _read_parquet_safe(PATH_POINTS)\n",
        "df_trips = _read_parquet_safe(PATH_TRIPS)\n",
        "print(f\"[nb] points={len(df_points)}, trips={len(df_trips)}\")"
      ]
    },
    {
      "cell_type": "markdown",
      "metadata": {},
      "source": [
        "## Sensitivity: Stay-Point Detection\n",
        "Runs DBSCAN at multiple (eps, min_samples) settings. Saves `outputs/reports/sensitivity_staypoints.csv` and a figure."
      ]
    },
    {
      "cell_type": "code",
      "execution_count": null,
      "metadata": {},
      "outputs": [],
      "source": [
        "sens_stays = sensitivity_stop_detection(\n",
        "    df_points,\n",
        "    eps_list=[100, 150, 200],\n",
        "    min_samples_list=[3, 5, 8],\n",
        ")\n",
        "display(sens_stays.head())\n",
        "\n",
        "# Quick line plot: stays vs eps per min_samples\n",
        "if not sens_stays.empty:\n",
        "    plt.figure(figsize=(7,4))\n",
        "    sns.lineplot(data=sens_stays, x=\"eps_m\", y=\"n_stays\", hue=\"min_samples\", marker=\"o\")\n",
        "    plt.title(\"Stay-Points Sensitivity\")\n",
        "    plt.tight_layout()\n",
        "    out_path = FIG_DIR / \"sensitivity_staypoints.png\"\n",
        "    plt.savefig(out_path, dpi=150)\n",
        "    plt.close()\n",
        "    print(f\"[nb] Figure saved to {out_path}\")"
      ]
    },
    {
      "cell_type": "markdown",
      "metadata": {},
      "source": [
        "## Sensitivity: Trip Segmentation\n",
        "Vary gap threshold (min) and min trip distance (m). Saves `outputs/reports/sensitivity_trips.csv` and a figure."
      ]
    },
    {
      "cell_type": "code",
      "execution_count": null,
      "metadata": {},
      "outputs": [],
      "source": [
        "sens_trips = sensitivity_trip_segmentation(\n",
        "    df_points,\n",
        "    gap_minutes_list=[10, 20, 30, 45],\n",
        "    min_dist_list=[50, 100, 250],\n",
        ")\n",
        "display(sens_trips.head())\n",
        "\n",
        "if not sens_trips.empty:\n",
        "    plt.figure(figsize=(7,4))\n",
        "    sns.lineplot(data=sens_trips, x=\"gap_min\", y=\"trips_count\", hue=\"min_trip_dist_m\", marker=\"o\")\n",
        "    plt.title(\"Trip Segmentation Sensitivity\")\n",
        "    plt.tight_layout()\n",
        "    out_path = FIG_DIR / \"sensitivity_trips.png\"\n",
        "    plt.savefig(out_path, dpi=150)\n",
        "    plt.close()\n",
        "    print(f\"[nb] Figure saved to {out_path}\")"
      ]
    },
    {
      "cell_type": "markdown",
      "metadata": {},
      "source": [
        "## Cross-User Validation\n",
        "KS stability of trip distributions across user folds. Saves `outputs/reports/cross_user_validation.csv` and a figure."
      ]
    },
    {
      "cell_type": "code",
      "execution_count": null,
      "metadata": {},
      "outputs": [],
      "source": [
        "cross_user = cross_user_validation(df_trips, n_splits=5, random_state=42)\n",
        "display(cross_user.head())\n",
        "\n",
        "if not cross_user.empty:\n",
        "    plt.figure(figsize=(7,4))\n",
        "    sns.barplot(data=cross_user, x=\"fold\", y=\"ks_distance_km\", color=\"#4C78A8\")\n",
        "    plt.title(\"Cross-User KS (Distance)\")\n",
        "    plt.tight_layout()\n",
        "    out_path = FIG_DIR / \"cross_user_validation.png\"\n",
        "    plt.savefig(out_path, dpi=150)\n",
        "    plt.close()\n",
        "    print(f\"[nb] Figure saved to {out_path}\")"
      ]
    },
    {
      "cell_type": "markdown",
      "metadata": {},
      "source": [
        "## Temporal Generalization\n",
        "Distribution summaries and KS comparisons between consecutive periods. Saves `outputs/reports/temporal_generalization.csv` and `_ks.csv`, plus a figure."
      ]
    },
    {
      "cell_type": "code",
      "execution_count": null,
      "metadata": {},
      "outputs": [],
      "source": [
        "temporal = temporal_generalization_check(df_trips)\n",
        "display(temporal.head())\n",
        "\n",
        "if not temporal.empty:\n",
        "    plt.figure(figsize=(8,5))\n",
        "    # Example: median distance over periods\n",
        "    tmp = temporal[temporal[\"metric\"]==\"distance_km\"].copy()\n",
        "    sns.lineplot(data=tmp, x=\"period\", y=\"median\", marker=\"o\")\n",
        "    plt.xticks(rotation=45, ha=\"right\")\n",
        "    plt.title(\"Median Trip Distance by Period\")\n",
        "    plt.tight_layout()\n",
        "    out_path = FIG_DIR / \"temporal_generalization.png\"\n",
        "    plt.savefig(out_path, dpi=150)\n",
        "    plt.close()\n",
        "    print(f\"[nb] Figure saved to {out_path}\")"
      ]
    },
    {
      "cell_type": "markdown",
      "metadata": {},
      "source": [
        "## Stays: DBSCAN vs HDBSCAN comparison"
      ]
    },
    {
      "cell_type": "code",
      "execution_count": null,
      "metadata": {},
      "outputs": [],
      "source": [
        "STAYS_DB_PATH = PROCESSED_DIR / \"03_stay_points_dbscan.parquet\"\n",
        "STAYS_HDB_PATH = PROCESSED_DIR / \"03_stay_points_hdbscan.parquet\"\n",
        "\n",
        "def _read_stays_safe(p: Path) -> pd.DataFrame:\n",
        "    if not p.exists():\n",
        "        return pd.DataFrame()\n",
        "    try:\n",
        "        return pd.read_parquet(p)\n",
        "    except Exception as e:\n",
        "        print(f\"[nb] Could not read stays from {p}: {e}\")\n",
        "        return pd.DataFrame()\n",
        "\n",
        "stays_db = _read_stays_safe(STAYS_DB_PATH)\n",
        "stays_hdb = _read_stays_safe(STAYS_HDB_PATH)\n",
        "\n",
        "if not (stays_db.empty and stays_hdb.empty):\n",
        "    comp_df = evaluate_stay_detection_comparison(df_points, stays_db, stays_hdb)\n",
        "    display(comp_df.head())\n",
        "else:\n",
        "    print(\"[nb] Stays artifacts missing; skipping stay detection comparison.\")"
      ]
    },
    {
      "cell_type": "markdown",
      "metadata": {},
      "source": [
        "## Map-Matching Quality (enhanced)"
      ]
    },
    {
      "cell_type": "code",
      "execution_count": null,
      "metadata": {},
      "outputs": [],
      "source": [
        "PATH_SNAPPED = PROCESSED_DIR / \"01_trajectories_snapped.parquet\"\n",
        "snapped_df = _read_parquet_safe(PATH_SNAPPED)\n",
        "\n",
        "mm_summary = evaluate_map_matching_quality(\n",
        "    df_points,\n",
        "    snapped_df,\n",
        "    report_path=\"outputs/reports/map_matching_quality.csv\",\n",
        "    by_trip_report_path=\"outputs/reports/map_matching_quality_by_trip.csv\",\n",
        ")\n",
        "display(pd.DataFrame([mm_summary]))\n",
        "\n",
        "if not pd.isna(mm_summary.get(\"average_lateral_offset_m\", np.nan)):\n",
        "    fig, ax = plt.subplots(figsize=(7,4))\n",
        "    vals = {\n",
        "        \"avg_offset_m\": mm_summary[\"average_lateral_offset_m\"],\n",
        "        \"delta_half_offset_m\": mm_summary.get(\"delta_half_offset_m\", np.nan),\n",
        "        \"delta_third_offset_m\": mm_summary.get(\"delta_third_offset_m\", np.nan),\n",
        "    }\n",
        "    sns.barplot(x=list(vals.keys()), y=list(vals.values()), ax=ax, color=\"#72B7B2\")\n",
        "    ax.set_title(\"Map-Matching Offset and Downsampling Deltas\")\n",
        "    plt.tight_layout()\n",
        "    out_path = FIG_DIR / \"map_matching_quality_offsets.png\"\n",
        "    plt.savefig(out_path, dpi=150)\n",
        "    plt.close()\n",
        "    print(f\"[nb] Figure saved to {out_path}\")"
      ]
    },
    {
      "cell_type": "markdown",
      "metadata": {},
      "source": [
        "## Mode Model Extended Metrics Summary"
      ]
    },
    {
      "cell_type": "code",
      "execution_count": null,
      "metadata": {},
      "outputs": [],
      "source": [
        "EXT_METRICS_JSON = Path(\"outputs/reports/mode_model_metrics_extended.json\")\n",
        "BASE_METRICS_JSON = Path(\"outputs/reports/mode_model_metrics_baseline.json\")\n",
        "if EXT_METRICS_JSON.exists():\n",
        "    summary_df = evaluate_mode_model_extended(\n",
        "        metrics_json_path=str(EXT_METRICS_JSON),\n",
        "        baseline_metrics_json_path=str(BASE_METRICS_JSON) if BASE_METRICS_JSON.exists() else None,\n",
        "        report_path=\"outputs/reports/mode_model_extended_summary.csv\",\n",
        "    )\n",
        "    display(summary_df)\n",
        "    cols = [c for c in [\"extended_accuracy\",\"extended_f1_macro\",\"extended_auroc\"] if c in summary_df.columns]\n",
        "    if cols:\n",
        "        plt.figure(figsize=(6,4))\n",
        "        sns.barplot(data=summary_df.melt(value_vars=cols, var_name=\"metric\", value_name=\"value\"), x=\"metric\", y=\"value\", color=\"#E45756\")\n",
        "        plt.title(\"Mode Model (Extended) Metrics\")\n",
        "        plt.tight_layout()\n",
        "        out_path = FIG_DIR / \"mode_model_extended_metrics.png\"\n",
        "        plt.savefig(out_path, dpi=150)\n",
        "        plt.close()\n",
        "        print(f\"[nb] Figure saved to {out_path}\")\n",
        "else:\n",
        "    print(f\"[nb] Extended metrics JSON not found at {EXT_METRICS_JSON}; skipping.\")"
      ]
    }
  ],
  "metadata": {
    "kernelspec": {
      "display_name": "Python 3",
      "language": "python",
      "name": "python3"
    },
    "language_info": {
      "name": "python",
      "version": "3.10"
    }
  },
  "nbformat": 4,
  "nbformat_minor": 5
}