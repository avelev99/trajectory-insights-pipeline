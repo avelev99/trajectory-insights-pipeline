{
 "cells": [
  {
   "cell_type": "markdown",
   "metadata": {},
   "source": [
    "# User Segmentation, Frequent Paths, and Mode Heuristics\\n",
    "\\n",
    "This notebook builds per-user mobility features, runs KMeans segmentation, and optionally computes frequent routes and heuristic transport modes.\\n",
    "\\n",
    "Artifacts saved under `data/processed/`:\\n",
    "- 04_user_features.parquet\\n",
    "- 05_frequent_paths.parquet (optional)\\n",
    "- 06_trip_modes_heuristic.parquet (optional)\\n",
    "- 07_user_segments.parquet\\n",
    "\\n",
    "Figures saved under `outputs/figures/`:\\n",
    "- user_segments_pairplot.png\\n"
   ]
  },
  {
   "cell_type": "code",
   "execution_count": null,
   "metadata": {},
   "outputs": [],
   "source": [
    "import os\\n",
    "import numpy as np\\n",
    "import pandas as pd\\n",
    "import matplotlib.pyplot as plt\\n",
    "import seaborn as sns\\n",
    "\\n",
    "from src.data_loader import load_config\\n",
    "from src.segmentation import build_user_feature_table, run_user_segmentation\\n",
    "from src.routes import frequent_paths\\n",
    "from src.mode_inference import label_mode_heuristic\\n",
    "\\n",
    "cfg = load_config(\"configs/config.yaml\")\\n",
    "processed_dir = cfg.get('paths', {}).get('processed_dir', 'data/processed')\\n",
    "output_dir = cfg.get('paths', {}).get('output_dir', 'outputs')\\n",
    "fig_dir = os.path.join(output_dir, 'figures')\\n",
    "report_dir = os.path.join(output_dir, 'reports')\\n",
    "os.makedirs(processed_dir, exist_ok=True)\\n",
    "os.makedirs(fig_dir, exist_ok=True)\\n",
    "os.makedirs(report_dir, exist_ok=True)\\n",
    "\\n",
    "points_path = os.path.join(processed_dir, '01_trajectories_cleaned.parquet')\\n",
    "trips_path = os.path.join(processed_dir, '02_trips.parquet')\\n",
    "stays_path = os.path.join(processed_dir, '03_stay_points.parquet')\\n",
    "\\n",
    "print(f\"Loading: {points_path}, {trips_path}, {stays_path}\")\\n",
    "df_points = pd.read_parquet(points_path) if os.path.exists(points_path) else pd.DataFrame()\\n",
    "df_trips = pd.read_parquet(trips_path) if os.path.exists(trips_path) else pd.DataFrame()\\n",
    "df_stays = pd.read_parquet(stays_path) if os.path.exists(stays_path) else pd.DataFrame()\\n",
    "print(f\"Loaded points={len(df_points)}, trips={len(df_trips)}, stays={len(df_stays)}\")\\n"
   ]
  },
  {
   "cell_type": "markdown",
   "metadata": {},
   "source": [
    "## Build User Feature Table"
   ]
  },
  {
   "cell_type": "code",
   "execution_count": null,
   "metadata": {},
   "outputs": [],
   "source": [
    "# If you have assignments table from the previous notebook (home/work),\\n",
    "# you can load it; for now we proceed without it (None).\\n",
    "df_assignments = None\\n",
    "df_user_features = build_user_feature_table(df_points, df_trips, df_stays, df_assignments)\\n",
    "print(df_user_features.head())\\n",
    "\\n",
    "engine = 'pyarrow'\\n",
    "try:\\n",
    "    import pyarrow  # noqa: F401\\n",
    "except Exception:\\n",
    "    try:\\n",
    "        import fastparquet  # noqa: F401\\n",
    "        engine = 'fastparquet'\\n",
    "    except Exception as e:\\n",
    "        raise RuntimeError('No parquet engine available. Install pyarrow or fastparquet.')\\n",
    "\\n",
    "user_feat_path = os.path.join(processed_dir, '04_user_features.parquet')\\n",
    "df_user_features.to_parquet(user_feat_path, index=False, engine=engine)\\n",
    "csv_summary_path = os.path.join(report_dir, '04_user_features_summary.csv')\\n",
    "df_user_features.describe(include='all').to_csv(csv_summary_path)\\n",
    "print(f\"Saved user features: {user_feat_path} and CSV summary: {csv_summary_path}\")\\n"
   ]
  },
  {
   "cell_type": "markdown",
   "metadata": {},
   "source": [
    "## Run KMeans Segmentation and Save Figure + Artifact"
   ]
  },
  {
   "cell_type": "code",
   "execution_count": null,
   "metadata": {},
   "outputs": [],
   "source": [
    "df_segments, fig_path, centers = run_user_segmentation(df_user_features, k=4, random_state=42, figures_dir=fig_dir, figure_name='user_segments_pairplot.png')\\n",
    "seg_path = os.path.join(processed_dir, '07_user_segments.parquet')\\n",
    "df_segments.to_parquet(seg_path, index=False, engine=engine)\\n",
    "print(f\"Saved segments: {seg_path}. Figure: {fig_path}\")\\n",
    "df_segments.head()\\n"
   ]
  },
  {
   "cell_type": "markdown",
   "metadata": {},
   "source": [
    "## Optional: Frequent Paths and Mode Heuristic Labeling"
   ]
  },
  {
   "cell_type": "code",
   "execution_count": null,
   "metadata": {
    "tags": [
     "optional"
    ]
   },
   "outputs": [],
   "source": [
    "# Frequent paths\\n",
    "if not df_points.empty and not df_trips.empty:\\n",
    "    df_freq = frequent_paths(df_points, df_trips, min_occurrences=3, rounding=5, downsample_n=5)\\n",
    "    freq_path = os.path.join(processed_dir, '05_frequent_paths.parquet')\\n",
    "    df_freq.to_parquet(freq_path, index=False, engine=engine)\\n",
    "    freq_csv = os.path.join(report_dir, '05_frequent_paths.csv')\\n",
    "    df_freq.to_csv(freq_csv, index=False)\\n",
    "    print(f\"Saved frequent paths: {freq_path} and CSV: {freq_csv}\")\\n",
    "else:\\n",
    "    df_freq = pd.DataFrame()\\n",
    "    print(\"Skipping frequent paths: missing points or trips.\")\\n",
    "\\n",
    "# Mode heuristic\\n",
    "if not df_trips.empty:\\n",
    "    df_modes = label_mode_heuristic(df_trips)\\n",
    "    modes_path = os.path.join(processed_dir, '06_trip_modes_heuristic.parquet')\\n",
    "    df_modes.to_parquet(modes_path, index=False, engine=engine)\\n",
    "    modes_csv = os.path.join(report_dir, '06_trip_modes_heuristic.csv')\\n",
    "    df_modes.to_csv(modes_csv, index=False)\\n",
    "    print(f\"Saved heuristic modes: {modes_path} and CSV: {modes_csv}\")\\n",
    "else:\\n",
    "    print(\"Skipping mode labeling: no trips available.\")\\n"
   ]
  }
 ],
 "metadata": {
  "kernelspec": {
   "display_name": "Python 3",
   "language": "python",
   "name": "python3"
  },
  "language_info": {
   "name": "python",
   "pygments_lexer": "ipython3"
  }
 },
 "nbformat": 4,
 "nbformat_minor": 5
}