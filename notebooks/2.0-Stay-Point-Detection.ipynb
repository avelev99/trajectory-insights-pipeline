{
 "cells": [
  {
   "cell_type": "markdown",
   "metadata": {},
   "source": [
    "# Stay-Point Detection and Home/Work Inference\\n",
    "\\n",
    "This notebook loads processed points and trips, runs DBSCAN-based stay-point detection, infers home/work, and saves artifacts + figures.\\n",
    "\\n",
    "Artifacts saved under `data/processed/`:\\n",
    "- 03_stay_points.parquet\\n",
    "\\n",
    "Figures saved under `outputs/figures/`:\\n",
    "- staypoints_clusters.png\\n",
    "- hotspot_grid.png\\n",
    "\\n",
    "Notes:\\n",
    "- Uses lightweight local projection (equirectangular).\\n",
    "- Designed to be tolerant to missing columns.\\n"
   ]
  },
  {
   "cell_type": "code",
   "execution_count": null,
   "metadata": {},
   "outputs": [],
   "source": [
    "import os\\n",
    "import pandas as pd\\n",
    "import numpy as np\\n",
    "from sklearn.cluster import DBSCAN\\n",
    "import matplotlib.pyplot as plt\\n",
    "import seaborn as sns\\n",
    "\\n",
    "from src.data_loader import load_config\\n",
    "from src.clustering import detect_stay_points_dbscan, infer_home_work, hotspot_grid\\n",
    "from src.feature_engineering import daily_weekly_temporal_features\\n",
    "\\n",
    "cfg = load_config(\"configs/config.yaml\")\\n",
    "processed_dir = cfg.get('paths', {}).get('processed_dir', 'data/processed')\\n",
    "output_dir = cfg.get('paths', {}).get('output_dir', 'outputs')\\n",
    "fig_dir = os.path.join(output_dir, 'figures')\\n",
    "os.makedirs(processed_dir, exist_ok=True)\\n",
    "os.makedirs(fig_dir, exist_ok=True)\\n",
    "\\n",
    "points_path = os.path.join(processed_dir, '01_trajectories_cleaned.parquet')\\n",
    "trips_path = os.path.join(processed_dir, '02_trips.parquet')\\n",
    "print(f\"Loading: {points_path} and {trips_path}\")\\n",
    "df_points = pd.read_parquet(points_path) if os.path.exists(points_path) else pd.DataFrame()\\n",
    "df_trips = pd.read_parquet(trips_path) if os.path.exists(trips_path) else pd.DataFrame()\\n",
    "print(f\"Points: {len(df_points)}, Trips: {len(df_trips)}\")\\n"
   ]
  },
  {
   "cell_type": "code",
   "execution_count": null,
   "metadata": {},
   "outputs": [],
   "source": [
    "# Optional: add temporal features for easier filtering/inspection\\n",
    "if not df_points.empty:\\n",
    "    df_points = daily_weekly_temporal_features(df_points)\\n",
    "df_points.head() if not df_points.empty else df_points\\n"
   ]
  },
  {
   "cell_type": "markdown",
   "metadata": {},
   "source": [
    "## Run Stay-Point Detection (DBSCAN in meters)"
   ]
  },
  {
   "cell_type": "code",
   "execution_count": null,
   "metadata": {},
   "outputs": [],
   "source": [
    "eps_m = cfg.get('stay_point_detection', {}).get('eps_meters', 150)\\n",
    "min_samples = cfg.get('stay_point_detection', {}).get('min_samples', 5)\\n",
    "df_stays = detect_stay_points_dbscan(df_points, eps_m=float(eps_m), min_samples=int(min_samples))\\n",
    "print(f\"Stay points: {len(df_stays)}\")\\n",
    "df_stays.head()\\n"
   ]
  },
  {
   "cell_type": "markdown",
   "metadata": {},
   "source": [
    "## Home/Work Inference"
   ]
  },
  {
   "cell_type": "code",
   "execution_count": null,
   "metadata": {},
   "outputs": [],
   "source": [
    "df_assign = infer_home_work(df_stays)\\n",
    "print(df_assign.head())\\n",
    "df_assign.head()\\n"
   ]
  },
  {
   "cell_type": "markdown",
   "metadata": {},
   "source": [
    "## Save Artifacts and Figures"
   ]
  },
  {
   "cell_type": "code",
   "execution_count": null,
   "metadata": {},
   "outputs": [],
   "source": [
    "engine = 'pyarrow'\\n",
    "try:\\n",
    "    import pyarrow  # noqa: F401\\n",
    "except Exception:\\n",
    "    try:\\n",
    "        import fastparquet  # noqa: F401\\n",
    "        engine = 'fastparquet'\\n",
    "    except Exception as e:\\n",
    "        raise RuntimeError('No parquet engine available. Install pyarrow or fastparquet.')\\n",
    "\\n",
    "stay_points_path = os.path.join(processed_dir, '03_stay_points.parquet')\\n",
    "df_stays.to_parquet(stay_points_path, index=False, engine=engine)\\n",
    "print(f\"Saved stay points: {len(df_stays)} to {stay_points_path}\")\\n",
    "\\n",
    "# Hotspot grid figure\\n",
    "_, hotspot_fig = hotspot_grid(df_points, bins=100, figures_dir=fig_dir, figure_name='hotspot_grid.png')\\n",
    "print(f\"Hotspot: {hotspot_fig}\")\\n",
    "\\n",
    "# Quick cluster scatter for visual check (non-geographic axes)\\n",
    "fig_path = os.path.join(fig_dir, 'staypoints_clusters.png')\\n",
    "if not df_stays.empty:\\n",
    "    plt.figure(figsize=(6,5))\\n",
    "    plt.scatter(df_stays['center_lon'], df_stays['center_lat'], s=np.clip(df_stays['point_count'], 10, 200), c='tab:blue', alpha=0.7)\\n",
    "    plt.xlabel('lon'); plt.ylabel('lat'); plt.title('Stay Points (centers)')\\n",
    "    plt.tight_layout(); plt.savefig(fig_path, dpi=150); plt.close()\\n",
    "    print(f\"Stay-points figure saved: {fig_path}\")\\n",
    "else:\\n",
    "    print(\"No stays to plot.\")\\n"
   ]
  }
 ],
 "metadata": {
  "kernelspec": {
   "display_name": "Python 3",
   "language": "python",
   "name": "python3"
  },
  "language_info": {
   "name": "python",
   "pygments_lexer": "ipython3"
  }
 },
 "nbformat": 4,
 "nbformat_minor": 5
}