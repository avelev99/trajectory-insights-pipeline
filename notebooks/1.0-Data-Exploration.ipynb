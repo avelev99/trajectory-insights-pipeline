{
 "cells": [
  {
   "cell_type": "markdown",
   "metadata": {},
   "source": [
    "# 1.0 - Data Exploration\n",
    "\n",
    "Lightweight, reproducible scaffold to load processed artifacts, run EDA summaries, write CSV reports, and generate publication-ready figures.\n",
    "\n",
    "Outputs:\n",
    "- Figures: `outputs/figures/`\n",
    "- Reports (CSV): `outputs/reports/`"
   ]
  },
  {
   "cell_type": "code",
   "execution_count": null,
   "metadata": {
    "trusted": true
   },
   "outputs": [],
   "source": [
    "# Imports\n",
    "import os\n",
    "from pathlib import Path\n",
    "import pandas as pd\n",
    "\n",
    "from src.eda import (\n",
    "    load_artifacts,\n",
    "    summarize_points,\n",
    "    summarize_users,\n",
    "    write_overview_report,\n",
    "    write_users_report,\n",
    "    generate_all_figures,\n",
    ")\n",
    "\n",
    "FIG_DIR = Path(\"outputs/figures\")\n",
    "REP_DIR = Path(\"outputs/reports\")\n",
    "FIG_DIR.mkdir(parents=True, exist_ok=True)\n",
    "REP_DIR.mkdir(parents=True, exist_ok=True)\n",
    "print(f\"[Notebook] Figures dir: {FIG_DIR.resolve()}\")\n",
    "print(f\"[Notebook] Reports dir: {REP_DIR.resolve()}\")"
   ]
  },
  {
   "cell_type": "code",
   "execution_count": null,
   "metadata": {
    "trusted": true
   },
   "outputs": [],
   "source": [
    "# Load processed artifacts\n",
    "df_points, df_trips = load_artifacts(\n",
    "    points_path=\"data/processed/01_trajectories_cleaned.parquet\",\n",
    "    trips_path=\"data/processed/02_trips.parquet\",\n",
    ")\n",
    "print(\"[Notebook] Points shape:\", getattr(df_points, \"shape\", None))\n",
    "print(\"[Notebook] Trips shape:\", getattr(df_trips, \"shape\", None))"
   ]
  },
  {
   "cell_type": "markdown",
   "metadata": {},
   "source": [
    "## Overview Summary and Per-user Summary\n",
    "Writes CSVs to:\n",
    "- `outputs/reports/summary_overview.csv`\n",
    "- `outputs/reports/summary_users.csv`"
   ]
  },
  {
   "cell_type": "code",
   "execution_count": null,
   "metadata": {
    "trusted": true
   },
   "outputs": [],
   "source": [
    "# Compute and write overview summary\n",
    "overview_path = write_overview_report(df_points, out_dir=str(REP_DIR))\n",
    "print(\"[Notebook] Wrote:\", overview_path)\n",
    "\n",
    "# Compute and write per-user summary\n",
    "users_path = write_users_report(df_points, df_trips, out_dir=str(REP_DIR))\n",
    "print(\"[Notebook] Wrote:\", users_path)\n",
    "\n",
    "# Display short previews in notebook\n",
    "try:\n",
    "    display(pd.read_csv(overview_path))\n",
    "    display(pd.read_csv(users_path).head())\n",
    "except Exception as e:\n",
    "    print(\"[Notebook] Preview read failed:\", e)"
   ]
  },
  {
   "cell_type": "markdown",
   "metadata": {},
   "source": [
    "## Generate Figures\n",
    "Saves plots to `outputs/figures/`:\n",
    "- `speed_distribution.png`, `speed_boxplot.png`\n",
    "- `acceleration_distribution.png`, `acceleration_boxplot.png` (if acceleration exists)\n",
    "- `trip_distance_distribution.png`, `trip_distance_boxplot.png`\n",
    "- `trip_duration_distribution.png`, `trip_duration_boxplot.png`\n",
    "- `tod_activity.png`, `dow_activity.png`, `monthly_activity.png`\n",
    "- `trajectory_map_user_sample.png`\n",
    "- `kde_heatmap.png`"
   ]
  },
  {
   "cell_type": "code",
   "execution_count": null,
   "metadata": {
    "trusted": true
   },
   "outputs": [],
   "source": [
    "saved = generate_all_figures(df_points, df_trips, out_dir=str(FIG_DIR))\n",
    "print(\"[Notebook] Saved figures:\")\n",
    "for k, v in saved.items():\n",
    "    print(f\"  - {k}: {v}\")"
   ]
  },
  {
   "cell_type": "markdown",
   "metadata": {},
   "source": [
    "## Notes\n",
    "- The EDA utilities are robust to missing columns (e.g., acceleration). Missing plots are skipped.\n",
    "- The notebook is designed to run top-to-bottom without manual intervention once artifacts exist.\n",
    "- Adjust paths if your processed artifacts are in a different location."
   ]
  }
 ],
 "metadata": {
  "kernelspec": {
   "display_name": "Python 3",
   "language": "python",
   "name": "python3"
  },
  "language_info": {
   "name": "python",
   "version": "3.10"
  }
 },
 "nbformat": 4,
 "nbformat_minor": 5
}